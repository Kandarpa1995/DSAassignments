{
 "cells": [
  {
   "cell_type": "markdown",
   "id": "e4d1f5a2-af6c-4151-87da-ac749934ca2f",
   "metadata": {},
   "source": [
    "<aside>\n",
    "💡 **Q1.** Given an array of integers nums and an integer target, return indices of the two numbers such that they add up to target.\n",
    "\n",
    "You may assume that each input would have exactly one solution, and you may not use the same element twice.\n",
    "\n",
    "You can return the answer in any order.\n",
    "\n",
    "**Example:**\n",
    "Input: nums = [2,7,11,15], target = 9\n",
    "Output0 [0,1]\n",
    "\n",
    "**Explanation:** Because nums[0] + nums[1] == 9, we return [0, 1][\n",
    "\n",
    "</aside>"
   ]
  },
  {
   "cell_type": "code",
   "execution_count": 5,
   "id": "59acbcaf-1dbd-427a-9dd8-31d24febd7ad",
   "metadata": {},
   "outputs": [],
   "source": [
    "class solution:\n",
    "    def twoSum(self, nums, target):\n",
    "        nums_copy=nums\n",
    "        nums=sorted(nums)\n",
    "        res=[]\n",
    "        l=0\n",
    "        h=len(nums) - 1\n",
    "        while l < h:\n",
    "            sum=nums[l]+nums[h]\n",
    "            if sum>target:\n",
    "                h-=1\n",
    "            elif sum<target:\n",
    "                l+=1\n",
    "            else:\n",
    "                res.append([nums_copy.index(nums[l]),nums_copy.index(nums[h])])\n",
    "                \n",
    "                h-=1\n",
    "                l+=1\n",
    "        return res"
   ]
  },
  {
   "cell_type": "code",
   "execution_count": 6,
   "id": "115bba63-c04f-4246-9818-5a02e89140e1",
   "metadata": {},
   "outputs": [],
   "source": [
    "s=solution()"
   ]
  },
  {
   "cell_type": "code",
   "execution_count": 7,
   "id": "23776fd4-d7a2-4ea8-8aba-7e13908fd43b",
   "metadata": {},
   "outputs": [
    {
     "data": {
      "text/plain": [
       "[[0, 1]]"
      ]
     },
     "execution_count": 7,
     "metadata": {},
     "output_type": "execute_result"
    }
   ],
   "source": [
    "s.twoSum([2,7,11,15], 9)"
   ]
  },
  {
   "cell_type": "markdown",
   "id": "3fe64c5f-b820-4785-84fe-278b3a246230",
   "metadata": {},
   "source": [
    "💡 **Q2.** Given an integer array nums and an integer val, remove all occurrences of val in nums in-place. The order of the elements may be changed. Then return the number of elements in nums which are not equal to val.\n",
    "Consider the number of elements in nums which are not equal to val be k, to get accepted, you need to do the following things:\n",
    "\n",
    "Change the array nums such that the first k elements of nums contain the elements which are not equal to val. The remaining elements of nums are not important as well as the size of nums.\n",
    "Return k.\n",
    "Example : Input: nums = [3,2,2,3], val = 3 Output: 2, nums = [2,2,*,*]\n",
    "\n",
    "Explanation: Your function should return k = 2, with the first two elements of nums being 2. It does not matter what you leave beyond the returned k (hence they are underscores)["
   ]
  },
  {
   "cell_type": "code",
   "execution_count": 15,
   "id": "25871ea0-0f39-4f11-9faa-4150f6489290",
   "metadata": {},
   "outputs": [],
   "source": [
    "class Solution:\n",
    "    def remove_val ( self, nums , val):\n",
    "        for i in nums:\n",
    "            if i==val:\n",
    "                nums.remove(i)\n",
    "        return nums"
   ]
  },
  {
   "cell_type": "code",
   "execution_count": 18,
   "id": "bee70cdd-2276-4cdb-85a0-c45cb98acbc8",
   "metadata": {},
   "outputs": [],
   "source": [
    "s=Solution()"
   ]
  },
  {
   "cell_type": "code",
   "execution_count": 19,
   "id": "246c3ff1-440e-4b32-8e5d-24470ff0bfc2",
   "metadata": {},
   "outputs": [
    {
     "data": {
      "text/plain": [
       "[2, 2]"
      ]
     },
     "execution_count": 19,
     "metadata": {},
     "output_type": "execute_result"
    }
   ],
   "source": [
    "s.remove_val([3,2,2,3],3)"
   ]
  },
  {
   "cell_type": "code",
   "execution_count": 22,
   "id": "0aa01f99-d738-4cf2-8645-2ee93569ddc5",
   "metadata": {},
   "outputs": [],
   "source": [
    "class Solution:\n",
    "    def removeElement(self, nums, val):\n",
    "        r=len(nums)\n",
    "        l=0\n",
    "        \n",
    "        while l<r:\n",
    "            if nums[l]==val:\n",
    "                nums[l]=nums[r-1]\n",
    "                r-=1\n",
    "            else:\n",
    "                l+=1\n",
    "        return nums[:r]"
   ]
  },
  {
   "cell_type": "code",
   "execution_count": 23,
   "id": "a417948b-4478-4582-a168-0b2320d492ba",
   "metadata": {},
   "outputs": [],
   "source": [
    "s=Solution()"
   ]
  },
  {
   "cell_type": "code",
   "execution_count": 24,
   "id": "ff5d95fd-11dd-494e-9e68-1f58c2914710",
   "metadata": {},
   "outputs": [
    {
     "data": {
      "text/plain": [
       "[2, 2]"
      ]
     },
     "execution_count": 24,
     "metadata": {},
     "output_type": "execute_result"
    }
   ],
   "source": [
    "nums = [3, 2, 2, 3]\n",
    "val = 3\n",
    "s.removeElement(nums, val)"
   ]
  },
  {
   "cell_type": "markdown",
   "id": "2bd0717c-a05c-406e-a026-c87ed4feb93f",
   "metadata": {},
   "source": [
    "💡 **Q3.** Given a sorted array of distinct integers and a target value, return the index if the target is found. If not, return the index where it would be if it were inserted in order.\n",
    "You must write an algorithm with O(log n) runtime complexity.\n",
    "\n",
    "Example 1: Input: nums = [1,3,5,6], target = 5\n",
    "\n",
    "Output: 2"
   ]
  },
  {
   "cell_type": "code",
   "execution_count": 28,
   "id": "a7cb3a19-1e5d-491c-8606-f84e81748a5d",
   "metadata": {},
   "outputs": [],
   "source": [
    "class Solution:\n",
    "    def findIndex(self,nums,target):\n",
    "        l=0\n",
    "        h=len(nums)-1\n",
    "        while l <h:\n",
    "            m=l+h//2\n",
    "            if nums[m]==target:\n",
    "                return m\n",
    "            elif nums[m] < target:\n",
    "                l=m+1\n",
    "            elif nums[m] > target:\n",
    "                h=m-1\n",
    "        else:\n",
    "            return l"
   ]
  },
  {
   "cell_type": "code",
   "execution_count": 29,
   "id": "d36c0483-cc16-42f7-abac-8fda9177d15f",
   "metadata": {},
   "outputs": [],
   "source": [
    "s=Solution()"
   ]
  },
  {
   "cell_type": "code",
   "execution_count": 30,
   "id": "2c86ea19-ea8e-4a99-b47f-a039fdb6ae5c",
   "metadata": {},
   "outputs": [
    {
     "data": {
      "text/plain": [
       "4"
      ]
     },
     "execution_count": 30,
     "metadata": {},
     "output_type": "execute_result"
    }
   ],
   "source": [
    "s.findIndex([1,3,5,6],7)"
   ]
  },
  {
   "cell_type": "markdown",
   "id": "bffdd78d-cc38-41fc-85ca-ecf6defbdfa9",
   "metadata": {},
   "source": [
    "<aside>\n",
    "💡 **Q5.** You are given two integer arrays nums1 and nums2, sorted in non-decreasing order, and two integers m and n, representing the number of elements in nums1 and nums2 respectively.\n",
    "\n",
    "Merge nums1 and nums2 into a single array sorted in non-decreasing order.\n",
    "\n",
    "The final sorted array should not be returned by the function, but instead be stored inside the array nums1. To accommodate this, nums1 has a length of m + n, where the first m elements denote the elements that should be merged, and the last n elements are set to 0 and should be ignored. nums2 has a length of n.\n",
    "\n",
    "**Example 1:**\n",
    "Input: nums1 = [1,2,3,0,0,0], m = 3, nums2 = [2,5,6], n = 3\n",
    "Output: [1,2,2,3,5,6]\n",
    "\n",
    "**Explanation:** The arrays we are merging are [1,2,3] and [2,5,6].\n",
    "The result of the merge is [1,2,2,3,5,6] with the underlined elements coming from nums1.\n",
    "\n",
    "</aside>"
   ]
  },
  {
   "cell_type": "code",
   "execution_count": 37,
   "id": "02249d93-adaa-42b0-8c69-a96bd017c8e7",
   "metadata": {},
   "outputs": [],
   "source": [
    "class Solution:\n",
    "    def MergeNums (self,nums1,m,nums2,n):\n",
    "        \n",
    "        p1=m-1\n",
    "        p2=n-1\n",
    "        p=m+n-1\n",
    "        while p1>=0 and p2>=0:\n",
    "                if(nums1[p1]>=nums2[p2]):\n",
    "                    nums1[p] = nums1[p1]\n",
    "                    p1-=1\n",
    "                else:\n",
    "                    nums1[p]=nums2[p2]\n",
    "                    p2-=1\n",
    "                p-=1\n",
    "        \n",
    "        nums1[:p2 + 1] = nums2[:p2 + 1]\n",
    "        return nums1"
   ]
  },
  {
   "cell_type": "code",
   "execution_count": 38,
   "id": "51ec16da-ed1b-4bd1-b18b-83a007b38c71",
   "metadata": {},
   "outputs": [],
   "source": [
    "nums1 = [1, 2, 10, 0, 0, 0,0,0]\n",
    "m = 3\n",
    "nums2 = [0,3, 5, 6,9]\n",
    "n = 5"
   ]
  },
  {
   "cell_type": "code",
   "execution_count": 39,
   "id": "7d15bd0a-ace5-4667-869e-e00f730b8c2a",
   "metadata": {},
   "outputs": [],
   "source": [
    "s=Solution()"
   ]
  },
  {
   "cell_type": "code",
   "execution_count": 40,
   "id": "9bce408e-f1be-4748-b9b2-45330018669b",
   "metadata": {},
   "outputs": [
    {
     "data": {
      "text/plain": [
       "[0, 1, 2, 3, 5, 6, 9, 10]"
      ]
     },
     "execution_count": 40,
     "metadata": {},
     "output_type": "execute_result"
    }
   ],
   "source": [
    "s.MergeNums(nums1, m, nums2, n)"
   ]
  },
  {
   "cell_type": "markdown",
   "id": "35635a6a-bda6-4317-b8c0-93ed06e32117",
   "metadata": {},
   "source": [
    "<aside>\n",
    "💡 **Q6.** Given an integer array nums, return true if any value appears at least twice in the array, and return false if every element is distinct.\n",
    "\n",
    "**Example 1:**\n",
    "Input: nums = [1,2,3,1]\n",
    "\n",
    "Output: true\n",
    "\n",
    "</aside>"
   ]
  },
  {
   "cell_type": "code",
   "execution_count": 41,
   "id": "35d3036b-4fc3-4162-994f-a21100712dda",
   "metadata": {},
   "outputs": [],
   "source": [
    "def Duplicates(nums):\n",
    "    seen=set()\n",
    "    for num in nums:\n",
    "        if num in seen:\n",
    "            return True\n",
    "        seen.add(num)\n",
    "    return False"
   ]
  },
  {
   "cell_type": "code",
   "execution_count": 42,
   "id": "2bbc6566-f7f5-4b16-a656-bb9d7dfebcb3",
   "metadata": {},
   "outputs": [
    {
     "data": {
      "text/plain": [
       "True"
      ]
     },
     "execution_count": 42,
     "metadata": {},
     "output_type": "execute_result"
    }
   ],
   "source": [
    "Duplicates([1,2,3,1])"
   ]
  },
  {
   "cell_type": "code",
   "execution_count": 43,
   "id": "d2e76b4b-16e1-4a01-97bc-f3690f8178d9",
   "metadata": {},
   "outputs": [
    {
     "data": {
      "text/plain": [
       "False"
      ]
     },
     "execution_count": 43,
     "metadata": {},
     "output_type": "execute_result"
    }
   ],
   "source": [
    "Duplicates([1,2,3])"
   ]
  },
  {
   "cell_type": "markdown",
   "id": "80da156e-e8a3-4f9e-b484-f8759b1e6f06",
   "metadata": {},
   "source": [
    "💡 **Q7.** Given an integer array nums, move all 0's to the end of it while maintaining the relative order of the nonzero elements.\n",
    "Note that you must do this in-place without making a copy of the array.\n",
    "\n",
    "Example 1: Input: nums = [0,1,0,3,12] Output: [1,3,12,0,0]"
   ]
  },
  {
   "cell_type": "code",
   "execution_count": 45,
   "id": "1763d1b7-ce26-4e13-b117-fd864c0b4672",
   "metadata": {},
   "outputs": [],
   "source": [
    "def moveZeroes(nums):\n",
    "    l=0\n",
    "    for i in range(len(nums)):\n",
    "        if nums[i] !=0:\n",
    "            nums[i],nums[l]=nums[l],nums[i]\n",
    "            l+=1\n",
    "    return nums"
   ]
  },
  {
   "cell_type": "code",
   "execution_count": 47,
   "id": "b917474b-5b77-4f27-92e9-5a9b6049ac3f",
   "metadata": {},
   "outputs": [
    {
     "data": {
      "text/plain": [
       "[1, 3, 12, 0, 0]"
      ]
     },
     "execution_count": 47,
     "metadata": {},
     "output_type": "execute_result"
    }
   ],
   "source": [
    "nums = [0, 1, 0, 3, 12]\n",
    "moveZeroes(nums)"
   ]
  },
  {
   "cell_type": "markdown",
   "id": "336f0a37-ccb6-4900-801f-bed4a428aead",
   "metadata": {},
   "source": [
    "💡 **Q8.** You have a set of integers s, which originally contains all the numbers from 1 to n. Unfortunately, due to some error, one of the numbers in s got duplicated to another number in the set, which results in repetition of one number and loss of another number.\n",
    "You are given an integer array nums representing the data status of this set after the error.\n",
    "\n",
    "Find the number that occurs twice and the number that is missing and return them in the form of an array.\n",
    "\n",
    "Example 1: Input: nums = [1,2,2,4] Output: [2,3]"
   ]
  },
  {
   "cell_type": "code",
   "execution_count": 48,
   "id": "7d38ed11-b812-46ae-a6a4-4c077ac0d7ee",
   "metadata": {},
   "outputs": [],
   "source": [
    "def DuplicatesMissing(nums):\n",
    "    seen=set()\n",
    "    l=len(nums)\n",
    "    res=[]\n",
    "    for num in nums:\n",
    "        if num in seen:\n",
    "            res.append(num)\n",
    "        seen.add(num)\n",
    "    for i in range(1,l+1):\n",
    "        if i not in seen:\n",
    "            res.append(i)\n",
    "    return res"
   ]
  },
  {
   "cell_type": "code",
   "execution_count": 49,
   "id": "188c8c66-79bb-436b-bac8-4774bb980f75",
   "metadata": {},
   "outputs": [],
   "source": [
    "nums = [1,2,2,4]"
   ]
  },
  {
   "cell_type": "code",
   "execution_count": 50,
   "id": "f9fe10b7-f797-46c9-a66d-b8039699f970",
   "metadata": {},
   "outputs": [
    {
     "data": {
      "text/plain": [
       "[2, 3]"
      ]
     },
     "execution_count": 50,
     "metadata": {},
     "output_type": "execute_result"
    }
   ],
   "source": [
    "DuplicatesMissing(nums)"
   ]
  },
  {
   "cell_type": "code",
   "execution_count": null,
   "id": "8a0ef7c8-6ee4-44f3-b44b-bf9518d79f32",
   "metadata": {},
   "outputs": [],
   "source": []
  }
 ],
 "metadata": {
  "kernelspec": {
   "display_name": "Python 3 (ipykernel)",
   "language": "python",
   "name": "python3"
  },
  "language_info": {
   "codemirror_mode": {
    "name": "ipython",
    "version": 3
   },
   "file_extension": ".py",
   "mimetype": "text/x-python",
   "name": "python",
   "nbconvert_exporter": "python",
   "pygments_lexer": "ipython3",
   "version": "3.10.6"
  }
 },
 "nbformat": 4,
 "nbformat_minor": 5
}
