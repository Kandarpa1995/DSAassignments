{
 "cells": [
  {
   "cell_type": "markdown",
   "id": "9a5b2ffa-18e8-43dd-9743-959cfc43f617",
   "metadata": {},
   "source": [
    "<aside>\n",
    "💡 **Question 1**\n",
    "Given an integer array nums of 2n integers, group these integers into n pairs (a1, b1), (a2, b2),..., (an, bn) such that the sum of min(ai, bi) for all i is maximized. Return the maximized sum.\n",
    "\n",
    "**Example 1:**\n",
    "Input: nums = [1,4,3,2]\n",
    "Output: 4\n",
    "\n",
    "**Explanation:** All possible pairings (ignoring the ordering of elements) are:\n",
    "\n",
    "1. (1, 4), (2, 3) -> min(1, 4) + min(2, 3) = 1 + 2 = 3\n",
    "2. (1, 3), (2, 4) -> min(1, 3) + min(2, 4) = 1 + 2 = 3\n",
    "3. (1, 2), (3, 4) -> min(1, 2) + min(3, 4) = 1 + 3 = 4\n",
    "So the maximum possible sum is 4\n",
    "</aside>"
   ]
  },
  {
   "cell_type": "code",
   "execution_count": 15,
   "id": "ab9a7d8e-4270-4763-9443-6cd9cc098004",
   "metadata": {},
   "outputs": [],
   "source": [
    "class Solution:\n",
    "    def MaxPairSum(self,nums):\n",
    "        nums.sort()\n",
    "        max=0\n",
    "        for i in range (0,len(nums),2):\n",
    "            max+=nums[i]\n",
    "        return max"
   ]
  },
  {
   "cell_type": "code",
   "execution_count": 16,
   "id": "024ed343-76b7-4b0f-b7de-75b3bd8fb8f3",
   "metadata": {},
   "outputs": [],
   "source": [
    "s=Solution()"
   ]
  },
  {
   "cell_type": "code",
   "execution_count": 17,
   "id": "f8a1b55c-a4dc-4b7e-8943-fc54d50e144b",
   "metadata": {},
   "outputs": [
    {
     "data": {
      "text/plain": [
       "4"
      ]
     },
     "execution_count": 17,
     "metadata": {},
     "output_type": "execute_result"
    }
   ],
   "source": [
    "s.MaxPairSum([1,4,3,2])"
   ]
  },
  {
   "cell_type": "markdown",
   "id": "8c9e0886-08ea-413d-bd38-3ee7e6ee1e4e",
   "metadata": {},
   "source": [
    "Question 2\n",
    "Alice has n candies, where the ith candy is of type candyType[i]. Alice noticed that she started to gain weight, so she visited a doctor. \n",
    "\n",
    "The doctor advised Alice to only eat n / 2 of the candies she has (n is always even). Alice likes her candies very much, and she wants to eat the maximum number of different types of candies while still following the doctor's advice. \n",
    "\n",
    "Given the integer array candyType of length n, return the maximum number of different types of candies she can eat if she only eats n / 2 of them.\n",
    "\n",
    "Example 1:\n",
    "Input: candyType = [1,1,2,2,3,3]\n",
    "Output: 3\n",
    "\n",
    "Explanation: Alice can only eat 6 / 2 = 3 candies. Since there are only 3 types, she can eat one of each type.\n"
   ]
  },
  {
   "cell_type": "code",
   "execution_count": 20,
   "id": "25c0e5fe-4372-48ed-a795-2a531b59e762",
   "metadata": {},
   "outputs": [],
   "source": [
    "class Candy:\n",
    "    def maxCandy(self,nums):\n",
    "        s=set(nums)\n",
    "        ls=len(s)\n",
    "        ln=len(nums)\n",
    "        if ln/2>=ls:\n",
    "            return ls\n",
    "        else:\n",
    "            return int(ln/2)"
   ]
  },
  {
   "cell_type": "code",
   "execution_count": 21,
   "id": "fc7e5509-88ec-41ff-b9d6-253b69eb6349",
   "metadata": {},
   "outputs": [],
   "source": [
    "c=Candy()\n"
   ]
  },
  {
   "cell_type": "code",
   "execution_count": 22,
   "id": "a7d55b82-1809-4c37-af52-998becd92fc0",
   "metadata": {},
   "outputs": [
    {
     "data": {
      "text/plain": [
       "2"
      ]
     },
     "execution_count": 22,
     "metadata": {},
     "output_type": "execute_result"
    }
   ],
   "source": [
    "c.maxCandy([1,2,3,4])"
   ]
  },
  {
   "cell_type": "markdown",
   "id": "a3d95c5e-9a47-411a-a7ca-3dc4ced10603",
   "metadata": {},
   "source": [
    "Question 3\n",
    "We define a harmonious array as an array where the difference between its maximum value\n",
    "and its minimum value is exactly 1.\n",
    "\n",
    "Given an integer array nums, return the length of its longest harmonious subsequence\n",
    "among all its possible subsequences.\n",
    "\n",
    "A subsequence of an array is a sequence that can be derived from the array by deleting some or no elements without changing the order of the remaining elements.\n",
    "\n",
    "Example 1:\n",
    "Input: nums = [1,3,2,2,5,2,3,7]\n",
    "Output: 5\n",
    "\n",
    "Explanation: The longest harmonious subsequence is [3,2,2,2,3]."
   ]
  },
  {
   "cell_type": "code",
   "execution_count": 25,
   "id": "159a1b27-d339-4231-97ff-88bfdeacbc47",
   "metadata": {},
   "outputs": [],
   "source": [
    "def findLHS(nums):\n",
    "    freq_count={}\n",
    "    max_length=0\n",
    "    \n",
    "    #Count the frequency of each number\n",
    "    for num in nums:\n",
    "        freq_count[num] =freq_count.get(num,0)+1\n",
    "        \n",
    "    #Iterate through dictionary and check for pair with difference 1\n",
    "    for num in freq_count:\n",
    "        if num+1 in freq_count:\n",
    "            length= freq_count[num]+freq_count[num+1]\n",
    "            max_length =max(max_length ,length)\n",
    "    return max_length"
   ]
  },
  {
   "cell_type": "code",
   "execution_count": 26,
   "id": "97ff57ff-27f6-4d85-b91d-c9314ec978c8",
   "metadata": {},
   "outputs": [
    {
     "data": {
      "text/plain": [
       "5"
      ]
     },
     "execution_count": 26,
     "metadata": {},
     "output_type": "execute_result"
    }
   ],
   "source": [
    "findLHS( [1,3,2,2,5,2,3,7])"
   ]
  },
  {
   "cell_type": "markdown",
   "id": "87192dc4-88ca-4813-95aa-24d7256c541f",
   "metadata": {},
   "source": [
    "Question 4\n",
    "You have a long flowerbed in which some of the plots are planted, and some are not.\n",
    "However, flowers cannot be planted in adjacent plots.\n",
    "Given an integer array flowerbed containing 0's and 1's, where 0 means empty and 1 means not empty, and an integer n, return true if n new flowers can be planted in the flowerbed without violating the no-adjacent-flowers rule and false otherwise.\n",
    "\n",
    "Example 1:\n",
    "Input: flowerbed = [1,0,0,0,1], n = 1\n",
    "Output: true"
   ]
  },
  {
   "cell_type": "code",
   "execution_count": 27,
   "id": "d70b28ba-0c69-47d5-ab1d-6446278728e1",
   "metadata": {},
   "outputs": [],
   "source": [
    "def Plant(nums,n):\n",
    "    i=0\n",
    "    count=0\n",
    "    while i<len(nums):\n",
    "        if nums[i]==0 and (i==0 or nums[i-1]==0) and (i==len(nums)-1 or nums[i+1]==0 ) :\n",
    "            count+=1\n",
    "            nums[i]=1\n",
    "            if count>=n:\n",
    "                return True\n",
    "        i+=1\n",
    "        \n",
    "    return False"
   ]
  },
  {
   "cell_type": "code",
   "execution_count": 28,
   "id": "289531e6-d32c-47f6-94c0-37e52af9a535",
   "metadata": {},
   "outputs": [
    {
     "data": {
      "text/plain": [
       "True"
      ]
     },
     "execution_count": 28,
     "metadata": {},
     "output_type": "execute_result"
    }
   ],
   "source": [
    "Plant([1,0,0,0,1],1)"
   ]
  },
  {
   "cell_type": "markdown",
   "id": "7403ec8f-3af5-4f3e-afed-2ea88931b743",
   "metadata": {},
   "source": [
    "Question 5\n",
    "Given an integer array nums, find three numbers whose product is maximum and return the maximum product.\n",
    "\n",
    "Example 1:\n",
    "Input: nums = [1,2,3]\n",
    "Output: 6"
   ]
  },
  {
   "cell_type": "code",
   "execution_count": 29,
   "id": "a74bf483-3ad1-4e46-9b4d-301632356351",
   "metadata": {},
   "outputs": [],
   "source": [
    "def maxProduct(nums):\n",
    "    nums.sort()\n",
    "    l=len(nums)-1\n",
    "    return max(nums[l]*nums[l-1]*nums[l-2] ,nums[0]*nums[1] *nums[l])"
   ]
  },
  {
   "cell_type": "code",
   "execution_count": 30,
   "id": "86d08776-5328-4688-8f08-32e886f88733",
   "metadata": {},
   "outputs": [],
   "source": [
    "nums = [-5,-4,1,2,3]"
   ]
  },
  {
   "cell_type": "code",
   "execution_count": 31,
   "id": "1791396c-2160-4563-9985-b400aa754f59",
   "metadata": {},
   "outputs": [
    {
     "data": {
      "text/plain": [
       "60"
      ]
     },
     "execution_count": 31,
     "metadata": {},
     "output_type": "execute_result"
    }
   ],
   "source": [
    "maxProduct(nums)"
   ]
  },
  {
   "cell_type": "markdown",
   "id": "aecaef29-9286-44e6-b99c-9615280389f7",
   "metadata": {},
   "source": [
    "Question 6\n",
    "Given an array of integers nums which is sorted in ascending order, and an integer target,\n",
    "write a function to search target in nums. If target exists, then return its index. Otherwise,\n",
    "return -1.\n",
    "\n",
    "You must write an algorithm with O(log n) runtime complexity.\n",
    "\n",
    "Input: nums = [-1,0,3,5,9,12], target = 9\n",
    "Output: 4\n",
    "\n",
    "Explanation: 9 exists in nums and its index is 4"
   ]
  },
  {
   "cell_type": "code",
   "execution_count": 33,
   "id": "94559169-4747-45f0-a86c-96d5fad8956a",
   "metadata": {},
   "outputs": [],
   "source": [
    "class Solution:\n",
    "    def findIndex(self,nums,target):\n",
    "        l=0\n",
    "        h=len(nums)-1\n",
    "        while l < h:\n",
    "            \n",
    "            m=(l+h)//2\n",
    "            \n",
    "            if nums[m]==target:\n",
    "                return m\n",
    "            elif nums[m] < target:\n",
    "                l=m+1\n",
    "            else:\n",
    "                h=m-1\n",
    "        \n",
    "        return -1"
   ]
  },
  {
   "cell_type": "code",
   "execution_count": 34,
   "id": "11a27b64-62b8-43df-bfe9-02ce1e9d56a5",
   "metadata": {},
   "outputs": [],
   "source": [
    "s=Solution()"
   ]
  },
  {
   "cell_type": "code",
   "execution_count": 35,
   "id": "b6bfb832-7c98-4bad-b460-fb66edadbfe9",
   "metadata": {},
   "outputs": [
    {
     "data": {
      "text/plain": [
       "-1"
      ]
     },
     "execution_count": 35,
     "metadata": {},
     "output_type": "execute_result"
    }
   ],
   "source": [
    "s.findIndex( [-1,0,3,5,12],9)"
   ]
  },
  {
   "cell_type": "markdown",
   "id": "22208a15-2ed6-4c5c-8c15-83e89fd1d2a6",
   "metadata": {},
   "source": [
    "Question 7\n",
    "An array is monotonic if it is either monotone increasing or monotone decreasing.\n",
    "\n",
    "An array nums is monotone increasing if for all i <= j, nums[i] <= nums[j]. An array nums is\n",
    "monotone decreasing if for all i <= j, nums[i] >= nums[j].\n",
    "\n",
    "Given an integer array nums, return true if the given array is monotonic, or false otherwise.\n",
    "\n",
    "Example 1:\n",
    "Input: nums = [1,2,2,3]\n",
    "Output: true"
   ]
  },
  {
   "cell_type": "code",
   "execution_count": 38,
   "id": "b1996804-ce8e-4783-80c0-db23d92ac7e7",
   "metadata": {},
   "outputs": [],
   "source": [
    "def monotonic(nums):\n",
    "    inc=dec=True\n",
    "    for i in range (len(nums)-1):\n",
    "        if nums[i]<=nums[i+1]:\n",
    "            dec=False\n",
    "        else:\n",
    "            inc=False\n",
    "    return inc or dec"
   ]
  },
  {
   "cell_type": "code",
   "execution_count": 39,
   "id": "af45c61e-2e60-4017-a049-7c576ebb836d",
   "metadata": {},
   "outputs": [
    {
     "data": {
      "text/plain": [
       "True"
      ]
     },
     "execution_count": 39,
     "metadata": {},
     "output_type": "execute_result"
    }
   ],
   "source": [
    "monotonic( [4,3,2,1])"
   ]
  },
  {
   "cell_type": "markdown",
   "id": "e29a9ca2-24d5-4cac-9801-508be55260b2",
   "metadata": {},
   "source": [
    "Question 8\n",
    "You are given an integer array nums and an integer k.\n",
    "\n",
    "In one operation, you can choose any index i where 0 <= i < nums.length and change nums[i] to nums[i] + x where x is an integer from the range [-k, k]. You can apply this operation at most once for each index i.\n",
    "\n",
    "The score of nums is the difference between the maximum and minimum elements in nums.\n",
    "\n",
    "Return the minimum score of nums after applying the mentioned operation at most once for each index in it.\n",
    "\n",
    "Example 1:\n",
    "Input: nums = [1], k = 0\n",
    "Output: 0\n",
    "\n",
    "Explanation: The score is max(nums) - min(nums) = 1 - 1 = 0."
   ]
  },
  {
   "cell_type": "code",
   "execution_count": 41,
   "id": "8e2ecfd5-0b58-4231-a752-937b0460b3a1",
   "metadata": {},
   "outputs": [],
   "source": [
    "def minScore(nums, k):\n",
    "    minimum = maximum = nums[0]\n",
    "\n",
    "    for i in range(1, len(nums)):\n",
    "        minimum = min(minimum, nums[i] - k)\n",
    "        maximum = max(maximum, nums[i] + k)\n",
    "\n",
    "    return max(0, maximum - minimum)"
   ]
  },
  {
   "cell_type": "code",
   "execution_count": 43,
   "id": "4b34aa27-fc62-4ced-8837-30f809e0e476",
   "metadata": {},
   "outputs": [
    {
     "name": "stdout",
     "output_type": "stream",
     "text": [
      "Minimum score: 0\n"
     ]
    }
   ],
   "source": [
    "nums = [1]\n",
    "k = 0\n",
    "result = minScore(nums, k)\n",
    "print(\"Minimum score:\", result)"
   ]
  },
  {
   "cell_type": "code",
   "execution_count": null,
   "id": "e5b2d933-ba55-41dc-becc-bf3c6625f743",
   "metadata": {},
   "outputs": [],
   "source": []
  }
 ],
 "metadata": {
  "kernelspec": {
   "display_name": "Python 3 (ipykernel)",
   "language": "python",
   "name": "python3"
  },
  "language_info": {
   "codemirror_mode": {
    "name": "ipython",
    "version": 3
   },
   "file_extension": ".py",
   "mimetype": "text/x-python",
   "name": "python",
   "nbconvert_exporter": "python",
   "pygments_lexer": "ipython3",
   "version": "3.10.6"
  }
 },
 "nbformat": 4,
 "nbformat_minor": 5
}
