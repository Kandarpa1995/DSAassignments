{
 "cells": [
  {
   "cell_type": "markdown",
   "id": "8bd17ac2-a6ee-4095-be5b-3dbbb48800d6",
   "metadata": {},
   "source": [
    "Move Zeroes\n",
    "Given an integer array nums, move all 0's to the end of it while maintaining the relative order of the non-zero elements.\n",
    "\n",
    "Note that you must do this in-place without making a copy of the array.\n",
    "\n",
    "Example 1:\n",
    "Input: nums = [0,1,0,3,12]\n",
    "Output: [1,3,12,0,0]\n",
    "\n",
    "Example 2:\n",
    "Input: nums = [0]\n",
    "Output: [0]\n",
    "\n",
    "Constraints:\n",
    "a. 1 <= nums.length <= 10^4\n",
    "b. -2^31 <= nums[i] <= 2^31 - 1"
   ]
  },
  {
   "cell_type": "code",
   "execution_count": 5,
   "id": "00e504c8-2d13-4f10-a683-dcac9ef35d86",
   "metadata": {},
   "outputs": [],
   "source": [
    "def movezero(nums):\n",
    "    \n",
    "    for i in range(0,len(nums)-1):\n",
    "        for j in range ( i, len(nums)):\n",
    "            if nums[i] == 0 and nums[j]!=0:\n",
    "                temp=nums[i]\n",
    "                nums[i]=nums[j]\n",
    "                nums[j]=temp\n",
    "                continue\n",
    "            else:\n",
    "                continue\n",
    "    return nums"
   ]
  },
  {
   "cell_type": "code",
   "execution_count": 6,
   "id": "99da9069-e68f-4746-b0a0-e92f1ad12458",
   "metadata": {},
   "outputs": [
    {
     "data": {
      "text/plain": [
       "[1, 3, 0, 0, 0]"
      ]
     },
     "execution_count": 6,
     "metadata": {},
     "output_type": "execute_result"
    }
   ],
   "source": [
    "movezero([0,1,0,3,0])"
   ]
  },
  {
   "cell_type": "markdown",
   "id": "594a2df4-a02a-4e28-9763-ce87b8685354",
   "metadata": {},
   "source": [
    "First Unique Character in a String\n",
    "\n",
    "Given a string s, find the first non-repeating character in it and return its index. If it does not exist, return -1.\n",
    "\n",
    "Example 1:\n",
    "Input: s = \"leetcode\"\n",
    "Output: 0\n",
    "\n",
    "Example 2:\n",
    "Input: s = \"loveleetcode\"\n",
    "Output: 2\n",
    "\n",
    "Example 3:\n",
    "Input: s = \"aabb\"\n",
    "Output: -1\n",
    "\n",
    "Constraints:\n",
    "a. 1 <= s.length <= 10^5\n",
    "b. s consists of only lowercase English letters.\n",
    "\n",
    "Note: Create a GitHub file for the solution and add the file link the the answer section below."
   ]
  },
  {
   "cell_type": "code",
   "execution_count": 9,
   "id": "1835a122-4e1f-459f-875f-8603124229ad",
   "metadata": {},
   "outputs": [],
   "source": [
    "def unique(s):\n",
    "    \n",
    "    l=0\n",
    "    r=1\n",
    "    d={}\n",
    "    for i in range(0,len(s)):\n",
    "        \n",
    "        if s[i] in d:\n",
    "            d[s[i]]+=1\n",
    "        else:\n",
    "            d[s[i]]=1\n",
    "    print(d)\n",
    "    for key in d:\n",
    "        if d[key]==1:\n",
    "            return s.find(key)\n",
    "    return -1"
   ]
  },
  {
   "cell_type": "code",
   "execution_count": 10,
   "id": "e49019c2-2f00-4556-a55b-41ed22c68c85",
   "metadata": {},
   "outputs": [
    {
     "name": "stdout",
     "output_type": "stream",
     "text": [
      "{'l': 2, 'o': 2, 'v': 1, 'e': 4, 't': 1, 'c': 1, 'd': 1}\n"
     ]
    },
    {
     "data": {
      "text/plain": [
       "2"
      ]
     },
     "execution_count": 10,
     "metadata": {},
     "output_type": "execute_result"
    }
   ],
   "source": [
    "unique('loveleetcode')"
   ]
  },
  {
   "cell_type": "code",
   "execution_count": null,
   "id": "c5399c2d-7481-4dad-828b-631cd80b6483",
   "metadata": {},
   "outputs": [],
   "source": []
  }
 ],
 "metadata": {
  "kernelspec": {
   "display_name": "Python 3 (ipykernel)",
   "language": "python",
   "name": "python3"
  },
  "language_info": {
   "codemirror_mode": {
    "name": "ipython",
    "version": 3
   },
   "file_extension": ".py",
   "mimetype": "text/x-python",
   "name": "python",
   "nbconvert_exporter": "python",
   "pygments_lexer": "ipython3",
   "version": "3.10.6"
  }
 },
 "nbformat": 4,
 "nbformat_minor": 5
}
