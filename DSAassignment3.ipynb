{
 "cells": [
  {
   "cell_type": "markdown",
   "id": "4e8bf7cc-9af5-4138-ade5-4f3d86827412",
   "metadata": {},
   "source": [
    "Question 1\n",
    "Given an integer array nums of length n and an integer target, find three integers\n",
    "in nums such that the sum is closest to the target.\n",
    "Return the sum of the three integers.\n",
    "\n",
    "You may assume that each input would have exactly one solution.\n",
    "\n",
    "Example 1:\n",
    "Input: nums = [-1,2,1,-4], target = 1\n",
    "Output: 2\n",
    "\n",
    "Explanation: The sum that is closest to the target is 2. (-1 + 2 + 1 = 2)."
   ]
  },
  {
   "cell_type": "code",
   "execution_count": 2,
   "id": "d98ccc66-8e82-4b35-9d9f-c0e44e7be869",
   "metadata": {},
   "outputs": [],
   "source": [
    "def threeClosestSum(nums,target):\n",
    "    nums.sort()\n",
    "    n=len(nums)\n",
    "    closest_sum = float('inf')\n",
    "    \n",
    "    for i in range (0 , n-2):\n",
    "        l=i+1\n",
    "        r=n-1\n",
    "        \n",
    "        while l <r:\n",
    "            current_sum = nums[i]+nums[l]+nums[r]\n",
    "            \n",
    "            if current_sum==target:\n",
    "                return current_sum\n",
    "            \n",
    "            if abs(current_sum-target)< abs(closest_sum -target):\n",
    "                closest_sum = current_sum\n",
    "                \n",
    "            if current_sum < target:\n",
    "                l+=1\n",
    "            else:\n",
    "                r-=1\n",
    "    return closest_sum"
   ]
  },
  {
   "cell_type": "code",
   "execution_count": 3,
   "id": "1ed783ce-2f22-487f-87f7-b8956de4c8ec",
   "metadata": {},
   "outputs": [
    {
     "data": {
      "text/plain": [
       "2"
      ]
     },
     "execution_count": 3,
     "metadata": {},
     "output_type": "execute_result"
    }
   ],
   "source": [
    "threeClosestSum( [-1,2,1,-4],1)"
   ]
  },
  {
   "cell_type": "markdown",
   "id": "1be914e0-e45f-4b68-8226-939a71a557b9",
   "metadata": {},
   "source": [
    "Question 2\n",
    "Given an array nums of n integers, return an array of all the unique quadruplets\n",
    "[nums[a], nums[b], nums[c], nums[d]] such that:\n",
    "           ● 0 <= a, b, c, d < n\n",
    "           ● a, b, c, and d are distinct.\n",
    "           ● nums[a] + nums[b] + nums[c] + nums[d] == target\n",
    "\n",
    "You may return the answer in any order.\n",
    "\n",
    "Example 1:\n",
    "Input: nums = [1,0,-1,0,-2,2], target = 0\n",
    "Output: [[-2,-1,1,2],[-2,0,0,2],[-1,0,0,1]]"
   ]
  },
  {
   "cell_type": "code",
   "execution_count": 6,
   "id": "402e5587-bb8b-471f-944a-58d5507cf249",
   "metadata": {},
   "outputs": [],
   "source": [
    "def quadruplets(nums,target):\n",
    "    nums.sort()\n",
    "    n=len(nums)-1\n",
    "    res=[]\n",
    "    \n",
    "    for i in range(0,n-2):\n",
    "        \n",
    "        #Skip duplicates for th first element\n",
    "        \n",
    "        if i>0 and nums[i] == nums[i-1]:\n",
    "            continue\n",
    "        \n",
    "        for j in range (i+1,n-1):\n",
    "            \n",
    "            if j>i+1 and nums[j] ==nums[j-1]:\n",
    "                continue\n",
    "                \n",
    "                \n",
    "            l=j+1\n",
    "            r=n\n",
    "                    \n",
    "            while l < r:\n",
    "                sum= nums[i]+nums[j]+nums[l]+nums[r]\n",
    "                        \n",
    "                if sum == target:\n",
    "                    res.append([nums[i],nums[j],nums[l],nums[r]])\n",
    "                    \n",
    "                    while l<r and nums[l]==nums[l+1]:\n",
    "                        l+=1\n",
    "                    \n",
    "                    while l<r and nums[r] == nums[r-1]:\n",
    "                        r-+1\n",
    "                    \n",
    "                    l+=1\n",
    "                    r-=1\n",
    "                if sum < target:\n",
    "                    l+=1\n",
    "                if sum>target:\n",
    "                    r-=1\n",
    "    \n",
    "    return res\n"
   ]
  },
  {
   "cell_type": "code",
   "execution_count": null,
   "id": "5a08b8d7-c55c-4b1f-b1cb-042cfb853ef4",
   "metadata": {},
   "outputs": [],
   "source": [
    "quadruplets([1,0,-1,0,-2,2,1,1,1,1,-1,-1,-1,-1,-2,-2,2,0],0)"
   ]
  },
  {
   "cell_type": "markdown",
   "id": "92d8be13-98b5-4757-b011-b5449baf4f5b",
   "metadata": {},
   "source": [
    "Question 3 A permutation of an array of integers is an arrangement of its members into a sequence or linear order. ● For example, for arr = [1,2,3], the following are all the permutations of arr: [1,2,3], [1,3,2], [2, 1, 3], [2, 3, 1], [3,1,2], [3,2,1]. The next permutation of an array of integers is the next lexicographically greater permutation of its integer. More formally, if all the permutations of the array are sorted in one container according to their lexicographical order, then the next permutation of that array is the permutation that follows it in the sorted container. If such an arrangement is not possible, the array must be rearranged as the lowest possible order (i.e., sorted in ascending order). ● For example, the next permutation of arr = [1,2,3] is [1,3,2]. ● Similarly, the next permutation of arr = [2,3,1] is [3,1,2]. ● While the next permutation of arr = [3,2,1] is [1,2,3] because [3,2,1] does not have a lexicographical larger rearrangement. Given an array of integers nums, find the next permutation of nums. The replacement must be in place and use only constant extra memory. Example 1: Input: nums = [1,2,3] Output: [1,3,2]"
   ]
  },
  {
   "cell_type": "code",
   "execution_count": 1,
   "id": "f169fb41-63f0-4ed4-8188-efbcd354baeb",
   "metadata": {},
   "outputs": [],
   "source": [
    "def perm(nums):\n",
    "    i=len(nums)-1\n",
    "    while i>0:\n",
    "        if nums[i]>nums[i-1]:\n",
    "            nums[i],nums[i-1]=nums[i-1],nums[i]\n",
    "            break\n",
    "        else:\n",
    "            i-=1\n",
    "   \n",
    "    \n",
    "    return nums[:i] + nums[len(nums)-1:i-1:-1]"
   ]
  },
  {
   "cell_type": "code",
   "execution_count": 2,
   "id": "c9a5eaca-e80b-43ed-9b82-1a6e81e94fec",
   "metadata": {},
   "outputs": [
    {
     "data": {
      "text/plain": [
       "[1, 3, 2]"
      ]
     },
     "execution_count": 2,
     "metadata": {},
     "output_type": "execute_result"
    }
   ],
   "source": [
    "perm([1,2,3])"
   ]
  },
  {
   "cell_type": "markdown",
   "id": "7ef5c296-364c-425c-b67f-8480227a8956",
   "metadata": {},
   "source": [
    "Question 4 Given a sorted array of distinct integers and a target value, return the index if the target is found. If not, return the index where it would be if it were inserted in order. You must write an algorithm with O(log n) runtime complexity. Example 1: Input: nums = [1,3,5,6], target = 5 Output: 2"
   ]
  },
  {
   "cell_type": "code",
   "execution_count": 5,
   "id": "4a4a93d4-c241-44bc-8f13-9d65a87a48c3",
   "metadata": {},
   "outputs": [],
   "source": [
    "def Search(nums,target):\n",
    "    l=0\n",
    "    r=len(nums)-1\n",
    "    \n",
    "    while l<r:\n",
    "        m=l+r//2\n",
    "        if nums[m]==target:\n",
    "            return m\n",
    "        if nums[m] < target:\n",
    "            l=m+1\n",
    "        else:\n",
    "            r=m-1\n",
    "    else:\n",
    "        return l"
   ]
  },
  {
   "cell_type": "code",
   "execution_count": 6,
   "id": "95b3af8f-3dd6-41e9-b95c-231cacac3abe",
   "metadata": {},
   "outputs": [
    {
     "data": {
      "text/plain": [
       "2"
      ]
     },
     "execution_count": 6,
     "metadata": {},
     "output_type": "execute_result"
    }
   ],
   "source": [
    "Search([1,3,5,6],4)"
   ]
  },
  {
   "cell_type": "markdown",
   "id": "9275c675-9ab6-424c-bf4e-78db43fddf0c",
   "metadata": {},
   "source": [
    "Question 5 You are given a large integer represented as an integer array digits, where each digits[i] is the ith digit of the integer. The digits are ordered from most significant to least significant in left-to-right order. The large integer does not contain any leading 0's. Increment the large integer by one and return the resulting array of digits. Example 1: Input: digits = [1,2,3] Output: [1,2,4] Explanation: The array represents the integer 123. Incrementing by one gives 123 + 1 = 124. Thus, the result should be [1,2,4]."
   ]
  },
  {
   "cell_type": "code",
   "execution_count": 8,
   "id": "69e04e66-eadd-433f-8faf-ae7f860c09c2",
   "metadata": {},
   "outputs": [],
   "source": [
    "def AddOne(nums):\n",
    "    n=len(nums)-1\n",
    "    \n",
    "    for i in range(n,-1,-1):\n",
    "        if nums[i]<9:\n",
    "            nums[i]+=1\n",
    "            return nums\n",
    "        elif nums[i]==9:\n",
    "            nums[i]=0\n",
    "            \n",
    "    return [1]+nums\n",
    "            "
   ]
  },
  {
   "cell_type": "code",
   "execution_count": 9,
   "id": "0749ef45-50e3-4634-a577-da59905a0c81",
   "metadata": {},
   "outputs": [
    {
     "data": {
      "text/plain": [
       "[1, 3, 0]"
      ]
     },
     "execution_count": 9,
     "metadata": {},
     "output_type": "execute_result"
    }
   ],
   "source": [
    "AddOne([1,2,9])"
   ]
  },
  {
   "cell_type": "markdown",
   "id": "69760ada-d1e2-4713-8e62-53fcfd8ae13b",
   "metadata": {},
   "source": [
    "Question 6 Given a non-empty array of integers nums, every element appears twice except for one. Find that single one. You must implement a solution with a linear runtime complexity and use only constant extra space. Example 1: Input: nums = [2,2,1] Output: 1"
   ]
  },
  {
   "cell_type": "code",
   "execution_count": 11,
   "id": "4b1f5d63-a6e6-4aec-91ce-fe785a64ed67",
   "metadata": {},
   "outputs": [],
   "source": [
    "def Unique(nums):\n",
    "    res=0\n",
    "    \n",
    "    for i in nums:\n",
    "        res ^= i\n",
    "    return res\n",
    "            "
   ]
  },
  {
   "cell_type": "code",
   "execution_count": 12,
   "id": "4683d180-969f-46f1-9971-ce7b8de8301e",
   "metadata": {},
   "outputs": [
    {
     "data": {
      "text/plain": [
       "1"
      ]
     },
     "execution_count": 12,
     "metadata": {},
     "output_type": "execute_result"
    }
   ],
   "source": [
    "Unique([2,2,1])"
   ]
  },
  {
   "cell_type": "markdown",
   "id": "5639291e-7a0e-4376-8d1b-b40ab7c7595a",
   "metadata": {},
   "source": [
    "Question 7 You are given an inclusive range [lower, upper] and a sorted unique integer array nums, where all elements are within the inclusive range. A number x is considered missing if x is in the range [lower, upper] and x is not in nums. Return the shortest sorted list of ranges that exactly covers all the missing numbers. That is, no element of nums is included in any of the ranges, and each missing number is covered by one of the ranges. Example 1: Input: nums = [0,1,3,50,75], lower = 0, upper = 99 Output: [[2,2],[4,49],[51,74],[76,99]] Explanation: The ranges are: [2,2] [4,49] [51,74] [76,99]"
   ]
  },
  {
   "cell_type": "code",
   "execution_count": 13,
   "id": "fd1329cf-e850-4324-a2da-ebbfa4609bca",
   "metadata": {},
   "outputs": [],
   "source": [
    "def missingRange(nums,lower,upper):\n",
    "    res=[]\n",
    "    for i in range (0,len(nums)):\n",
    "        if i==0 and nums[i]>lower :\n",
    "            res.append([lower,nums[i]-1])\n",
    "        if i<len(nums)-1 and nums[i+1]!=nums[i]+1:\n",
    "            res.append([nums[i]+1,nums[i+1]-1])\n",
    "        if i==len(nums)-1 and nums[i]< upper:\n",
    "            res.append([nums[i]+1,upper])\n",
    "    return res"
   ]
  },
  {
   "cell_type": "code",
   "execution_count": 14,
   "id": "b479334c-12f7-4ae7-9ed4-a1b0047d7a82",
   "metadata": {},
   "outputs": [
    {
     "data": {
      "text/plain": [
       "[[0, 0], [2, 2], [4, 49], [51, 98]]"
      ]
     },
     "execution_count": 14,
     "metadata": {},
     "output_type": "execute_result"
    }
   ],
   "source": [
    "missingRange([1,3,50,99],0,99)"
   ]
  },
  {
   "cell_type": "markdown",
   "id": "c6195b51-f03e-4df5-b86e-e1419ece0c42",
   "metadata": {},
   "source": [
    "Question 8 Given an array of meeting time intervals where intervals[i] = [starti, endi], determine if a person could attend all meetings. Example 1: Input: intervals = [[0,30],[5,10],[15,20]] Output: false"
   ]
  },
  {
   "cell_type": "code",
   "execution_count": 15,
   "id": "7a5e1101-973b-4c67-b9b5-f6a2976fb6de",
   "metadata": {},
   "outputs": [],
   "source": [
    "def meetings(nums):\n",
    "    nums.sort(key=lambda x:x[0])\n",
    "    \n",
    "    for i in range (1,len(nums)):\n",
    "        if nums[i][0] < nums[i-1][1]:\n",
    "            return False\n",
    "    return True"
   ]
  },
  {
   "cell_type": "code",
   "execution_count": 16,
   "id": "9341aeca-d2c7-4ace-be89-412a8466bb10",
   "metadata": {},
   "outputs": [
    {
     "data": {
      "text/plain": [
       "True"
      ]
     },
     "execution_count": 16,
     "metadata": {},
     "output_type": "execute_result"
    }
   ],
   "source": [
    "meetings([[0,2],[5,10],[15,20]])"
   ]
  },
  {
   "cell_type": "code",
   "execution_count": null,
   "id": "24e1ccd1-baec-4aeb-81d3-ff8473bd49d1",
   "metadata": {},
   "outputs": [],
   "source": []
  }
 ],
 "metadata": {
  "kernelspec": {
   "display_name": "Python 3 (ipykernel)",
   "language": "python",
   "name": "python3"
  },
  "language_info": {
   "codemirror_mode": {
    "name": "ipython",
    "version": 3
   },
   "file_extension": ".py",
   "mimetype": "text/x-python",
   "name": "python",
   "nbconvert_exporter": "python",
   "pygments_lexer": "ipython3",
   "version": "3.10.6"
  }
 },
 "nbformat": 4,
 "nbformat_minor": 5
}
